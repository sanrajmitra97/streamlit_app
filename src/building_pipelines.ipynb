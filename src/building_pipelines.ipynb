{
 "cells": [
  {
   "cell_type": "code",
   "execution_count": 2,
   "metadata": {},
   "outputs": [],
   "source": [
    "import pandas as pd\n",
    "import numpy as np\n",
    "from sklearn.svm import SVC\n",
    "from sklearn.preprocessing import StandardScaler, OneHotEncoder, FunctionTransformer\n",
    "from sklearn.model_selection import train_test_split, GridSearchCV\n",
    "from sklearn.pipeline import Pipeline\n",
    "from sklearn.compose import ColumnTransformer\n",
    "from sklearn.metrics import accuracy_score\n",
    "import pickle"
   ]
  },
  {
   "cell_type": "code",
   "execution_count": 3,
   "metadata": {},
   "outputs": [
    {
     "name": "stdout",
     "output_type": "stream",
     "text": [
      "Accuracy: 0.97\n"
     ]
    }
   ],
   "source": [
    "# assume we have a dataset X with columns 'numerical_col', 'categorical_col' and target y\n",
    "\n",
    "# First we clean the original data before train test split. \n",
    "data = pd.read_csv(\"../data/numbers.csv\")\n",
    "data.dropna(how='any', axis=0, inplace=True)\n",
    "data.drop(['date', 'device'], axis=1, inplace=True)\n",
    "data['Country'] = data['Country'].apply(lambda x: 1 if x=='A' else 0)\n",
    "\n",
    "# Define X and y\n",
    "X = data.drop(['Country'], axis=1)\n",
    "y = data.Country.values\n",
    "\n",
    "# Name numerical and categorical features\n",
    "numerical_features = ['downloads', 'active_users', 'total_sessions', 'total_minutes', 'usage_penetration', 'open_rate', 'mb_per_user', 'mb_per_session']\n",
    "categorical_features = ['App']\n",
    "\n",
    "# define the transformers for numerical and categorical features\n",
    "numeric_transformer = Pipeline(steps=[('scaler', StandardScaler())])\n",
    "categorical_transformer = Pipeline(steps=[('onehot', OneHotEncoder())])\n",
    "\n",
    "# combine the transformers using ColumnTransformer\n",
    "preprocessor = ColumnTransformer(\n",
    "    transformers=[\n",
    "        ('num', numeric_transformer, numerical_features),\n",
    "        ('cat', categorical_transformer, categorical_features)\n",
    "    ])\n",
    "\n",
    "# Create a custom Transformer function\n",
    "def custom_transformer(X):\n",
    "    return np.square(X)\n",
    "\n",
    "# combine the preprocessor with the classifier using Pipeline\n",
    "pipeline = Pipeline(steps=[('preprocessor', preprocessor), ('custom_transformer', FunctionTransformer(custom_transformer)), ('classifier', SVC())])\n",
    "\n",
    "# split the data into training and testing sets\n",
    "X_train, X_test, y_train, y_test = train_test_split(X, y, test_size=0.2, random_state=42)\n",
    "\n",
    "# Grid Search CV\n",
    "parameteres = {'classifier__C':[0.001,0.1,10,100,10e5], 'classifier__gamma':[0.1,0.01]}\n",
    "grid = GridSearchCV(pipeline, param_grid=parameteres, cv=5)\n",
    "\n",
    "# fit the pipeline on the training data\n",
    "grid.fit(X_train, y_train)\n",
    "\n",
    "# make predictions on the testing data\n",
    "y_pred = grid.predict(X_test)\n",
    "\n",
    "# evaluate the accuracy of the model\n",
    "accuracy = accuracy_score(y_test, y_pred)\n",
    "print('Accuracy: {:.2f}'.format(accuracy))"
   ]
  },
  {
   "cell_type": "code",
   "execution_count": 4,
   "metadata": {},
   "outputs": [],
   "source": [
    "# # Save model\n",
    "# filename = '../model/test_model.sav'\n",
    "# pickle.dump(grid, open(filename, 'wb'))"
   ]
  },
  {
   "cell_type": "code",
   "execution_count": 5,
   "metadata": {},
   "outputs": [],
   "source": [
    "# Load Model\n",
    "loaded_model = pickle.load(open('../model/test_model.sav', 'rb'))"
   ]
  }
 ],
 "metadata": {
  "kernelspec": {
   "display_name": "sanraj1",
   "language": "python",
   "name": "python3"
  },
  "language_info": {
   "codemirror_mode": {
    "name": "ipython",
    "version": 3
   },
   "file_extension": ".py",
   "mimetype": "text/x-python",
   "name": "python",
   "nbconvert_exporter": "python",
   "pygments_lexer": "ipython3",
   "version": "3.9.12"
  },
  "orig_nbformat": 4
 },
 "nbformat": 4,
 "nbformat_minor": 2
}
